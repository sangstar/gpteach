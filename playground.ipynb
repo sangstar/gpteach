{
 "cells": [
  {
   "cell_type": "code",
   "execution_count": 3,
   "source": [
    "from gpteach.data_preparation import ChunkGenerator\n",
    "from gpteach.generation import QAGenerator\n",
    "from secret import api_key # Wherever you get your API key from\n",
    "\n",
    "chunk_generator = ChunkGenerator()\n",
    "sections = chunk_generator.get_data_from_wikipedia('George Washington')"
   ],
   "outputs": [],
   "metadata": {}
  },
  {
   "cell_type": "code",
   "execution_count": 4,
   "source": [
    "QA = QAGenerator(api_key = api_key, model_id = 'gpt-3.5-turbo')\n",
    "#QA.estimate_cost(sections, num_to_test = 2)"
   ],
   "outputs": [],
   "metadata": {}
  },
  {
   "cell_type": "code",
   "execution_count": 3,
   "source": [
    "QAGenerator.prompt_generator = \"Hi\""
   ],
   "outputs": [],
   "metadata": {}
  },
  {
   "cell_type": "code",
   "execution_count": 5,
   "source": [
    "answer = QA.qas_from_sections(sections[:2])"
   ],
   "outputs": [],
   "metadata": {}
  },
  {
   "cell_type": "code",
   "execution_count": 14,
   "source": [
    "QA.prompt_generator = lambda x: f\"\"\"Write a QA based on the following text: {x}\"\"\""
   ],
   "outputs": [],
   "metadata": {}
  },
  {
   "cell_type": "code",
   "execution_count": 15,
   "source": [
    "answer = QA.qas_from_sections(sections[:2])"
   ],
   "outputs": [
    {
     "output_type": "stream",
     "name": "stdout",
     "text": [
      "prompt generator: <function <lambda> at 0x125e25dc0>\n"
     ]
    }
   ],
   "metadata": {}
  }
 ],
 "metadata": {
  "orig_nbformat": 4,
  "language_info": {
   "name": "python",
   "version": "3.9.5",
   "mimetype": "text/x-python",
   "codemirror_mode": {
    "name": "ipython",
    "version": 3
   },
   "pygments_lexer": "ipython3",
   "nbconvert_exporter": "python",
   "file_extension": ".py"
  },
  "kernelspec": {
   "name": "python3",
   "display_name": "Python 3.9.5 64-bit ('gpteach_venv')"
  },
  "interpreter": {
   "hash": "45a4188f0df3ab9cf495101e13a2e40a80692f89f65697b9c29f486addf3a699"
  }
 },
 "nbformat": 4,
 "nbformat_minor": 2
}