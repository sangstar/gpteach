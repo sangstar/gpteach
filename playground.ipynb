{
 "cells": [
  {
   "cell_type": "code",
   "execution_count": 1,
   "source": [
    "from gpteach.data_preparation import ChunkGenerator\n",
    "from gpteach.generation import QAGenerator\n",
    "from secret import api_key # Wherever you get your API key from\n",
    "\n",
    "chunk_generator = ChunkGenerator()\n",
    "sections = chunk_generator.get_data_from_wikipedia('George Washington')"
   ],
   "outputs": [],
   "metadata": {}
  },
  {
   "cell_type": "code",
   "execution_count": 2,
   "source": [
    "QA = QAGenerator(api_key = api_key, model_id = 'gpt-3.5-turbo')\n",
    "QA.estimate_cost(sections, num_to_test = 2)"
   ],
   "outputs": [
    {
     "output_type": "error",
     "ename": "TypeError",
     "evalue": "object of type 'int' has no len()",
     "traceback": [
      "\u001b[0;31m---------------------------------------------------------------------------\u001b[0m",
      "\u001b[0;31mTypeError\u001b[0m                                 Traceback (most recent call last)",
      "Cell \u001b[0;32mIn[2], line 2\u001b[0m\n\u001b[1;32m      1\u001b[0m QA \u001b[38;5;241m=\u001b[39m QAGenerator(api_key \u001b[38;5;241m=\u001b[39m api_key, model_id \u001b[38;5;241m=\u001b[39m \u001b[38;5;124m'\u001b[39m\u001b[38;5;124mgpt-3.5-turbo\u001b[39m\u001b[38;5;124m'\u001b[39m)\n\u001b[0;32m----> 2\u001b[0m \u001b[43mQA\u001b[49m\u001b[38;5;241;43m.\u001b[39;49m\u001b[43mestimate_cost\u001b[49m\u001b[43m(\u001b[49m\u001b[43msections\u001b[49m\u001b[43m,\u001b[49m\u001b[43m \u001b[49m\u001b[43mnum_to_test\u001b[49m\u001b[43m \u001b[49m\u001b[38;5;241;43m=\u001b[39;49m\u001b[43m \u001b[49m\u001b[38;5;241;43m2\u001b[39;49m\u001b[43m)\u001b[49m\n",
      "File \u001b[0;32m~/Desktop/gpteach/gpteach/generation.py:108\u001b[0m, in \u001b[0;36mQAGenerator.estimate_cost\u001b[0;34m(self, sections, num_to_test)\u001b[0m\n\u001b[1;32m    105\u001b[0m qas \u001b[38;5;241m=\u001b[39m \u001b[38;5;28mself\u001b[39m\u001b[38;5;241m.\u001b[39mqas_from_sections(sections[:num_to_test])\n\u001b[1;32m    106\u001b[0m qa_costs \u001b[38;5;241m=\u001b[39m \u001b[38;5;28mself\u001b[39m\u001b[38;5;241m.\u001b[39mcost_history[\u001b[38;5;241m-\u001b[39mnum_to_test:]\n\u001b[0;32m--> 108\u001b[0m \u001b[38;5;28;01mreturn\u001b[39;00m \u001b[38;5;124mf\u001b[39m\u001b[38;5;124m'\u001b[39m\u001b[38;5;132;01m{\u001b[39;00mnp\u001b[38;5;241m.\u001b[39mmean(qa_costs)\u001b[38;5;132;01m}\u001b[39;00m\u001b[38;5;124m +- \u001b[39m\u001b[38;5;132;01m{\u001b[39;00mnp\u001b[38;5;241m.\u001b[39mstd(qa_costs)\u001b[38;5;241m/\u001b[39mnp\u001b[38;5;241m.\u001b[39msqrt(\u001b[38;5;28mlen\u001b[39m(num_to_test))\u001b[38;5;132;01m}\u001b[39;00m\u001b[38;5;124m'\u001b[39m\n",
      "\u001b[0;31mTypeError\u001b[0m: object of type 'int' has no len()"
     ]
    }
   ],
   "metadata": {}
  },
  {
   "cell_type": "code",
   "execution_count": null,
   "source": [],
   "outputs": [],
   "metadata": {}
  }
 ],
 "metadata": {
  "orig_nbformat": 4,
  "language_info": {
   "name": "python",
   "version": "3.9.5",
   "mimetype": "text/x-python",
   "codemirror_mode": {
    "name": "ipython",
    "version": 3
   },
   "pygments_lexer": "ipython3",
   "nbconvert_exporter": "python",
   "file_extension": ".py"
  },
  "kernelspec": {
   "name": "python3",
   "display_name": "Python 3.9.5 64-bit ('gpteach_venv')"
  },
  "interpreter": {
   "hash": "45a4188f0df3ab9cf495101e13a2e40a80692f89f65697b9c29f486addf3a699"
  }
 },
 "nbformat": 4,
 "nbformat_minor": 2
}