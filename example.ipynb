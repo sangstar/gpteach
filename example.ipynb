{
 "cells": [
  {
   "cell_type": "code",
   "execution_count": null,
   "id": "f35faafe-f24c-443c-9782-936cf6c2c231",
   "metadata": {},
   "outputs": [],
   "source": [
    "from gpteach.data_preparation import ChunkGenerator\n",
    "from gpteach.generation import QAGenerator\n",
    "from secret import api_key"
   ]
  },
  {
   "cell_type": "code",
   "execution_count": null,
   "id": "0107fa6b-15ce-4e28-b8b1-8f9e58297835",
   "metadata": {},
   "outputs": [],
   "source": [
    "chunk_generator = ChunkGenerator()\n",
    "sections = chunk_generator.get_data_from_wikipedia('George Washington')"
   ]
  },
  {
   "cell_type": "code",
   "execution_count": null,
   "id": "7e6c324d-3fdd-4af1-abaa-568f830b92b5",
   "metadata": {},
   "outputs": [],
   "source": [
    "QA = QAGenerator(api_key = api_key, model_id = 'gpt-3.5-turbo')\n",
    "QAs = QA.qas_from_sections(sections)"
   ]
  }
 ],
 "metadata": {
  "kernelspec": {
   "display_name": "gpteach_venv",
   "language": "python",
   "name": "gpteach_venv"
  },
  "language_info": {
   "codemirror_mode": {
    "name": "ipython",
    "version": 3
   },
   "file_extension": ".py",
   "mimetype": "text/x-python",
   "name": "python",
   "nbconvert_exporter": "python",
   "pygments_lexer": "ipython3",
   "version": "3.9.5"
  }
 },
 "nbformat": 4,
 "nbformat_minor": 5
}
